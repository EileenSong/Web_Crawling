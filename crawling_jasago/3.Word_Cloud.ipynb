{
 "cells": [
  {
   "cell_type": "code",
   "execution_count": null,
   "id": "e02c4a6e",
   "metadata": {},
   "outputs": [],
   "source": [
    "from wordcloud import WordCloud\n",
    "import matplotlib.pyplot as plt\n",
    "import numpy as np\n",
    "from PIL import *"
   ]
  },
  {
   "cell_type": "code",
   "execution_count": null,
   "id": "a77b47bd",
   "metadata": {},
   "outputs": [],
   "source": [
    "words = pd.read_excel(\"자사고 폐지_뉴스_단어빈도.xlsx\")\n",
    "words"
   ]
  },
  {
   "cell_type": "code",
   "execution_count": null,
   "id": "2b948552",
   "metadata": {},
   "outputs": [],
   "source": [
    "# 워드 클라우드에 넣을 {'단어':빈도} 딕셔너리 만들기\n",
    "list_word = words['단어'].to_list()\n",
    "list_freq = words['빈도'].to_list()\n",
    "\n",
    "word_dict = dict(zip(list_word, list_freq))\n",
    "word_dict"
   ]
  },
  {
   "cell_type": "code",
   "execution_count": null,
   "id": "9afb4a72",
   "metadata": {},
   "outputs": [],
   "source": [
    "wc = WordCloud(font_path='malgun', width=500, height=500, scale=2.0, background_color='white', max_font_size=250)\n",
    "gen = wc.generate_from_frequencies(word_dict)\n",
    "plt.figure()\n",
    "plt.imshow(gen)\n",
    "\n",
    "wc.to_file('D:/자사고_워드클라우드.png')"
   ]
  },
  {
   "cell_type": "code",
   "execution_count": null,
   "id": "c974d1ee",
   "metadata": {},
   "outputs": [],
   "source": []
  }
 ],
 "metadata": {
  "kernelspec": {
   "display_name": "Python 3 (ipykernel)",
   "language": "python",
   "name": "python3"
  },
  "language_info": {
   "codemirror_mode": {
    "name": "ipython",
    "version": 3
   },
   "file_extension": ".py",
   "mimetype": "text/x-python",
   "name": "python",
   "nbconvert_exporter": "python",
   "pygments_lexer": "ipython3",
   "version": "3.9.12"
  }
 },
 "nbformat": 4,
 "nbformat_minor": 5
}
