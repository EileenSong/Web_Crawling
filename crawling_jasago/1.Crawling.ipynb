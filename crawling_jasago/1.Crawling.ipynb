{
 "cells": [
  {
   "cell_type": "code",
   "execution_count": null,
   "id": "11747273",
   "metadata": {},
   "outputs": [],
   "source": [
    "from bs4 import BeautifulSoup\n",
    "import time\n",
    "from selenium import webdriver\n",
    "from selenium.webdriver.common.by import By\n",
    "import pandas as pd"
   ]
  },
  {
   "cell_type": "code",
   "execution_count": null,
   "id": "d37519a9",
   "metadata": {},
   "outputs": [],
   "source": [
    "#자사고 폐지에 대한 인식을 2022년도 언론보도를 통해 보고자 함.\n",
    "#크롤링, 데이터 정제, 워드클라우드 순으로 봄.\n",
    "#네이버를 활용하여 2022.01.01~2022.12.13까지 총 1950건이 수집됨."
   ]
  },
  {
   "cell_type": "code",
   "execution_count": null,
   "id": "cd9ebd5f",
   "metadata": {},
   "outputs": [],
   "source": [
    "path = \"chromedriver.exe\"\n",
    "\n",
    "driver = webdriver.Chrome()\n",
    "driver.maximize_window()\n",
    "driver.get(\"https://www.naver.com/\")\n",
    "time.sleep(2)"
   ]
  },
  {
   "cell_type": "code",
   "execution_count": null,
   "id": "08fd1637",
   "metadata": {},
   "outputs": [],
   "source": [
    "query_text = input(\"검색어 입력: \")\n",
    "\n",
    "element = driver.find_element(By.ID, \"query\");\n",
    "\n",
    "element.send_keys(query_text)\n",
    "element.submit()\n",
    "time.sleep(2)"
   ]
  },
  {
   "cell_type": "code",
   "execution_count": null,
   "id": "ebe01fa3",
   "metadata": {},
   "outputs": [],
   "source": [
    "driver.find_element(By.LINK_TEXT, \"뉴스\").click()\n",
    "time.sleep(1)\n",
    "\n",
    "driver.find_element(By.LINK_TEXT, \"최신순\").click()\n",
    "time.sleep(1)\n",
    "\n",
    "driver.find_element(By.LINK_TEXT, \"옵션\").click()\n",
    "time.sleep(1)"
   ]
  },
  {
   "cell_type": "code",
   "execution_count": null,
   "id": "e0dcb93b",
   "metadata": {},
   "outputs": [],
   "source": [
    "# 직접 입력 클릭\n",
    "driver.find_element(By.CSS_SELECTOR, '#snb > div.api_group_option_sort._search_option_detail_wrap > ul > li.bx.term > div > div.option > a.txt.txt_option._calendar_select_trigger').click()\n",
    "time.sleep(1)\n",
    "\n",
    "# 기간 설정시작 클릭\n",
    "driver.find_element(By.CSS_SELECTOR, \"#snb > div.api_group_option_sort._search_option_detail_wrap > ul > li.bx.term > div > div.api_select_option.type_calendar._calendar_select_layer > div.set_calendar > span:nth-child(1) > a\").click()\n",
    "time.sleep(1)\n",
    "\n",
    "\n",
    "# 월 - 1월 클릭\n",
    "driver.find_element(By.CSS_SELECTOR, \"#snb > div.api_group_option_sort._search_option_detail_wrap > ul > li.bx.term > div > div.api_select_option.type_calendar._calendar_select_layer > div.select_wrap._root > div:nth-child(2) > div > div > div > ul > li:nth-child(1) > a\").click()\n",
    "time.sleep(1)\n",
    "\n",
    "# 일 - 1일 클릭\n",
    "driver.find_element(By.CSS_SELECTOR, \"#snb > div.api_group_option_sort._search_option_detail_wrap > ul > li.bx.term > div > div.api_select_option.type_calendar._calendar_select_layer > div.select_wrap._root > div:nth-child(3) > div > div > div > ul > li:nth-child(1) > a\").click()\n",
    "time.sleep(1)\n",
    "\n",
    "# 기간 설정란 적용 버튼 클릭\n",
    "driver.find_element(By.CSS_SELECTOR, \"#snb > div.api_group_option_sort._search_option_detail_wrap > ul > li.bx.term > div > div.api_select_option.type_calendar._calendar_select_layer > div.btn_area > button\").click()\n",
    "time.sleep(1)"
   ]
  },
  {
   "cell_type": "code",
   "execution_count": null,
   "id": "14e0f1d7",
   "metadata": {},
   "outputs": [],
   "source": [
    "# 뉴스 제목, url, 날짜, 신문사 가져와서 저장 후 마지막 페이지까지 반복\n",
    "url_list = []\n",
    "title_list = []\n",
    "while True:\n",
    "    # 검색 결과 뉴스 url과 제목 가져오기\n",
    "    class_articles = \".news_tit\"\n",
    "    url_link = driver.find_elements(By.CSS_SELECTOR, class_articles)\n",
    "\n",
    "    for article in url_link:\n",
    "        url = article.get_attribute('href')\n",
    "        url_list.append(url)\n",
    "\n",
    "    for article in url_link:\n",
    "        title = article.get_attribute('title')\n",
    "        title_list.append(title)\n",
    "\n",
    "    # 다음 페이지 버튼 클릭\n",
    "    next_btn = driver.find_element(By.CSS_SELECTOR, \"#main_pack > div.api_sc_page_wrap > div > a.btn_next\")\n",
    "    # 마지막 페이지일 경우 다음 페이지 버튼이 비활성화됨. 이것을 확인하는 코드\n",
    "    next_btn_disabled = True if next_btn.get_attribute(\"aria-disabled\") == 'true' else False\n",
    "    \n",
    "    next_btn.click()\n",
    "    time.sleep(1)\n",
    "    \n",
    "    # 마지막 페이지일 경우 while 반복문 탈출\n",
    "    if next_btn_disabled:\n",
    "        break"
   ]
  },
  {
   "cell_type": "code",
   "execution_count": null,
   "id": "e369cce5",
   "metadata": {},
   "outputs": [],
   "source": [
    "# 수집 결과 확인\n",
    "title_list"
   ]
  },
  {
   "cell_type": "code",
   "execution_count": null,
   "id": "25b82c92",
   "metadata": {},
   "outputs": [],
   "source": [
    "# url과 제목 csv 파일로 저장함\n",
    "df = pd.DataFrame({'url': url_list, 'title':title_list})\n",
    "df.to_csv(\"2022jasago_news_url_title.csv\", index=False, encoding='UTF-8')\n",
    "df.to_csv(\"2022jasago_news_url_title.txt\", index=False, encoding='UTF-8')"
   ]
  }
 ],
 "metadata": {
  "kernelspec": {
   "display_name": "Python 3 (ipykernel)",
   "language": "python",
   "name": "python3"
  },
  "language_info": {
   "codemirror_mode": {
    "name": "ipython",
    "version": 3
   },
   "file_extension": ".py",
   "mimetype": "text/x-python",
   "name": "python",
   "nbconvert_exporter": "python",
   "pygments_lexer": "ipython3",
   "version": "3.9.12"
  }
 },
 "nbformat": 4,
 "nbformat_minor": 5
}
